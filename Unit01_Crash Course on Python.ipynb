{
 "cells": [
  {
   "cell_type": "markdown",
   "metadata": {},
   "source": [
    "# Python programming \n",
    "## Crash Course on Python Coding Practice\n",
    "\n",
    "No matter the level of mastery you hope to get to in Python,<br> \n",
    "you'll need these fundamentals in place before you jump into any project.<br><br>\n",
    "\n",
    "You need to know how to:\n",
    "\n",
    "- declare variables\n",
    "- collect user input\n",
    "- store information\n",
    "- repeat an action through loops\n",
    "- write functions to repeat blocks of code\n"
   ]
  },
  {
   "cell_type": "markdown",
   "metadata": {},
   "source": [
    "### 01 - 奇偶數辨別（Odd or even）\n",
    "#### 當使用者輸入一個的數字，它能夠辨別奇偶，並輸出檢驗結果給使用者。\n",
    "\n",
    "> 題目：輸入一數字判斷奇數或偶數<br>\n",
    "輸入(Input): 一個數字 <br>\n",
    "輸出(Output):奇數或偶數\n",
    "\n",
    "* 進階: 可以限制輸入一個介於一定範圍（例如 1 到 1000）的數字"
   ]
  },
  {
   "cell_type": "code",
   "execution_count": 27,
   "metadata": {},
   "outputs": [
    {
     "name": "stdout",
     "output_type": "stream",
     "text": [
      "<class 'str'>\n",
      "<class 'int'>\n",
      "even number\n"
     ]
    }
   ],
   "source": [
    "num = input() #input() 出來的型態 (type) 都是 str\n",
    "print (type(num))\n",
    "num = int(num) #轉型態成整數\n",
    "print (type(num))\n",
    "\n",
    "if num >= 1 and num <= 1000:\n",
    "\n",
    "    if num %2 == 0:\n",
    "        print ('even number')\n",
    "    else:\n",
    "        print ('odd number')\n",
    "\n",
    "else:\n",
    "    print ('invalid input')\n"
   ]
  },
  {
   "cell_type": "markdown",
   "metadata": {},
   "source": [
    "### 02 - 填字遊戲（Mad libs game）\n",
    "#### 使用者輸入任何字，它可以是名詞、形容詞、動詞、代名詞等。程式得到文字後，可自行排列，組成成一個模板故事。\n",
    "\n",
    "> 題目：輸入一數字判斷奇數或偶數<br>\n",
    "輸入(Input): 一連串依據說明輸入對應文字 <br>\n",
    "輸出(Output): 模板故事\n",
    "\n",
    "* 進階: 可以讓程式重複執行"
   ]
  },
  {
   "cell_type": "code",
   "execution_count": 28,
   "metadata": {},
   "outputs": [
    {
     "name": "stdout",
     "output_type": "stream",
     "text": [
      "-----------------------------------------\n",
      "第1期 - 1\n",
      "姓名: 1 ,\n",
      "學生背景: 1\n",
      "======================結訓證明=====================\n",
      "恭喜 1 修習完成課程[ 1 ]後\n",
      "結業成果獲得: 1\n",
      "well done!\n",
      "------------------------------------------\n"
     ]
    }
   ],
   "source": [
    "sem = input('請輸入課程期數:')\n",
    "course = input('請輸入課程名稱:')\n",
    "name = input('請輸入姓名:')\n",
    "background = input('請輸入您的背景:')\n",
    "expectation = input('對本課程期望:')\n",
    "\n",
    "#display the story based on user input\n",
    "print ('-----------------------------------------')\n",
    "print ('第%s期 - %s'%(sem, course))\n",
    "print ('姓名:', name, \",\")\n",
    "print('學生背景:', background)\n",
    "print('======================結訓證明=====================')\n",
    "print ('恭喜',name, \"修習完成課程[\",course, ']後')\n",
    "print ('結業成果獲得:', expectation)\n",
    "print('well done!')\n",
    "print('------------------------------------------')\n"
   ]
  },
  {
   "cell_type": "markdown",
   "metadata": {},
   "source": [
    "### 03 -  猜數字（Guess the number）\n",
    "#### 請使用者猜一個介於範圍（例如 1 到 100）之間的數字，\n",
    "#### 若使用者猜錯，就詢問他們想繼續玩還是退出；若使用者猜對，就顯示祝賀訊息，\n",
    "#### 並統計使用者的嘗試次數。如果使用者輸入的數字超出設定範圍，就顯示錯誤提示。\n",
    "\n",
    "![](data\\guess.png)\n"
   ]
  },
  {
   "cell_type": "code",
   "execution_count": 30,
   "metadata": {},
   "outputs": [
    {
     "name": "stdout",
     "output_type": "stream",
     "text": [
      "please input a number in the range of  0 <?< 100"
     ]
    },
    {
     "ename": "ValueError",
     "evalue": "invalid literal for int() with base 10: ''",
     "output_type": "error",
     "traceback": [
      "\u001b[1;31m---------------------------------------------------------------------------\u001b[0m",
      "\u001b[1;31mValueError\u001b[0m                                Traceback (most recent call last)",
      "\u001b[1;32mc:\\Users\\CHAN YI WEN\\OneDrive - University of Southampton\\8202 Yi Wen Chan\\Python 2023\\ML\\Unit01\\Unit01\\Unit01_Crash Course on Python.ipynb Cell 7\u001b[0m in \u001b[0;36m<cell line: 14>\u001b[1;34m()\u001b[0m\n\u001b[0;32m     <a href='vscode-notebook-cell:/c%3A/Users/CHAN%20YI%20WEN/OneDrive%20-%20University%20of%20Southampton/8202%20Yi%20Wen%20Chan/Python%202023/ML/Unit01/Unit01/Unit01_Crash%20Course%20on%20Python.ipynb#W6sZmlsZQ%3D%3D?line=12'>13</a>\u001b[0m \u001b[39mwhile\u001b[39;00m \u001b[39mTrue\u001b[39;00m:\n\u001b[0;32m     <a href='vscode-notebook-cell:/c%3A/Users/CHAN%20YI%20WEN/OneDrive%20-%20University%20of%20Southampton/8202%20Yi%20Wen%20Chan/Python%202023/ML/Unit01/Unit01/Unit01_Crash%20Course%20on%20Python.ipynb#W6sZmlsZQ%3D%3D?line=13'>14</a>\u001b[0m     \u001b[39mprint\u001b[39m (\u001b[39m'\u001b[39m\u001b[39mplease input a number in the range of \u001b[39m\u001b[39m'\u001b[39m, Min, \u001b[39m'\u001b[39m\u001b[39m<?<\u001b[39m\u001b[39m'\u001b[39m, Max, end \u001b[39m=\u001b[39m \u001b[39m'\u001b[39m\u001b[39m'\u001b[39m)\n\u001b[1;32m---> <a href='vscode-notebook-cell:/c%3A/Users/CHAN%20YI%20WEN/OneDrive%20-%20University%20of%20Southampton/8202%20Yi%20Wen%20Chan/Python%202023/ML/Unit01/Unit01/Unit01_Crash%20Course%20on%20Python.ipynb#W6sZmlsZQ%3D%3D?line=14'>15</a>\u001b[0m     guess \u001b[39m=\u001b[39m \u001b[39mint\u001b[39;49m(\u001b[39minput\u001b[39;49m())\n\u001b[0;32m     <a href='vscode-notebook-cell:/c%3A/Users/CHAN%20YI%20WEN/OneDrive%20-%20University%20of%20Southampton/8202%20Yi%20Wen%20Chan/Python%202023/ML/Unit01/Unit01/Unit01_Crash%20Course%20on%20Python.ipynb#W6sZmlsZQ%3D%3D?line=15'>16</a>\u001b[0m     count \u001b[39m=\u001b[39m count \u001b[39m+\u001b[39m \u001b[39m1\u001b[39m\n\u001b[0;32m     <a href='vscode-notebook-cell:/c%3A/Users/CHAN%20YI%20WEN/OneDrive%20-%20University%20of%20Southampton/8202%20Yi%20Wen%20Chan/Python%202023/ML/Unit01/Unit01/Unit01_Crash%20Course%20on%20Python.ipynb#W6sZmlsZQ%3D%3D?line=16'>17</a>\u001b[0m     \u001b[39mif\u001b[39;00m guess \u001b[39m==\u001b[39m ans:\n",
      "\u001b[1;31mValueError\u001b[0m: invalid literal for int() with base 10: ''"
     ]
    }
   ],
   "source": [
    "import random\n",
    "\n",
    "#initialisation\n",
    "\n",
    "Max = 100\n",
    "Min = 0\n",
    "\n",
    "\n",
    "ans = random.randint(1,99)\n",
    "count = 0\n",
    "\n",
    "\n",
    "while True:\n",
    "    print ('please input a number in the range of ', Min, '<?<', Max, end = '')\n",
    "    guess = int(input())\n",
    "    count = count + 1\n",
    "    if guess == ans:\n",
    "        print ('you are right!')\n",
    "        break\n",
    "\n",
    "    elif guess > ans and guess <100:\n",
    "        \n",
    "        Max = guess\n",
    "        print ('too big, you have used %d chances' %(count))\n",
    "\n",
    "    elif guess < ans:\n",
    "        Min = guess\n",
    "        print ('too small, you have used %d chances' %(count))\n",
    "\n",
    "    else:\n",
    "        print ('invalid')\n"
   ]
  },
  {
   "cell_type": "markdown",
   "metadata": {},
   "source": [
    "### 04 - 計算字數（Word count）\n",
    "#### 使用者輸入一段文字或讀取一檔案，程式統計字數。\n",
    "\n",
    "> 輸入(Input):我要成為寫程式的專家 <br>\n",
    "輸出(Output):你用了 10 個文字述說內心的想法\n",
    "\n",
    "#### 在特定的文章字串中搜尋輸入的特定字，請使用者輸入欲搜尋的文字，印出總共有幾個。<br>\n",
    ">輸入(Input):天<br>\n",
    "輸出(Output): 9\n",
    "\n",
    "* 進階:計算文章中去除標點符號後的字數，找出文章中出現最多的字與次數"
   ]
  },
  {
   "cell_type": "code",
   "execution_count": null,
   "metadata": {},
   "outputs": [
    {
     "name": "stdout",
     "output_type": "stream",
     "text": [
      "天\n",
      "你用了 1 個文字述說內心的想法\n",
      "------------------------------------------\n",
      "天\n",
      "9\n",
      "------------------------------------------\n",
      "文章總字數: 840\n",
      "不 14\n"
     ]
    }
   ],
   "source": [
    "word = input()\n",
    "print(\"你用了 %d 個文字述說內心的想法\"%(len(word)))\n",
    "\n",
    "#extra (in class mentioned): count english words\n",
    "\n",
    "s = '''漢皇重色思傾國，御宇多年求不得。\n",
    "\n",
    "楊家有女初長成，養在深閏人未識。\n",
    "\n",
    "天生麗質難自棄，一朝選在君王側。\n",
    "\n",
    "回眸一笑百媚生，六宮粉黛無顏色。\n",
    "\n",
    "春寒賜浴華清池，溫泉水滑洗凝脂；\n",
    "\n",
    "侍兒扶起嬌無力，始是新承恩澤時。\n",
    "\n",
    "雲鬢花顏金步搖，芙蓉帳暖度春宵；\n",
    "\n",
    "春宵苦短日高起，從此君王不早朝。\n",
    "\n",
    "承歡侍宴無閑暇，春從春遊夜專夜。\n",
    "\n",
    "後宮佳麗三千人，三千寵愛在一身。\n",
    "\n",
    "金屋妝成嬌侍夜，玉樓宴罷醉和春。\n",
    "\n",
    "姊妹弟兄皆列士，可憐光彩生門戶。\n",
    "\n",
    "遂令天下父母心，不重生男重生女。\n",
    "\n",
    "驪宮高處入青雲，仙樂風飄處處聞。\n",
    "\n",
    "緩歌慢舞凝絲竹，盡日君王看不足。\n",
    "\n",
    "漁陽鼙鼓動地來，驚破霓裳羽衣曲。\n",
    "\n",
    "九重城闕煙塵生，千乘萬騎西南行。\n",
    "\n",
    "翠華搖搖行復止，西出都門百餘里；\n",
    "\n",
    "六軍不發無奈何？宛轉蛾眉馬前死。\n",
    "\n",
    "花鈿委地無人收，翠翹金雀玉搔頭。\n",
    "\n",
    "君王掩面救不得，回看血淚相和流。\n",
    "\n",
    "黃埃散漫風蕭索，雲棧縈紆登劍閣。\n",
    "\n",
    "峨嵋山下少人行，旌旗無光日色薄。\n",
    "\n",
    "蜀江水碧蜀山青，聖主朝朝暮暮情。\n",
    "\n",
    "行宮見月傷心色，夜雨聞鈴腸斷聲。\n",
    "\n",
    "天旋地轉迴龍馭，到此躊躇不能去。\n",
    "\n",
    "馬嵬坡下泥土中，不見玉顏空死處。\n",
    "\n",
    "君臣相顧盡霑衣，東望都門信馬歸。\n",
    "\n",
    "歸來池苑皆依舊，太液芙蓉未央柳；\n",
    "\n",
    "芙蓉如面柳如眉，對此如何不淚垂？\n",
    "\n",
    "春風桃李花開日，秋雨梧桐葉落時。\n",
    "\n",
    "西宮南內多秋草，落葉滿階紅不掃。\n",
    "\n",
    "梨園子弟白髮新，椒房阿監青娥老。\n",
    "\n",
    "夕殿螢飛思悄然，孤燈挑盡未成眠。\n",
    "\n",
    "遲遲鐘鼓初長夜，耿耿星河欲曙天。\n",
    "\n",
    "鴛鴦瓦冷霜華重，翡翠衾寒誰與共？\n",
    "\n",
    "悠悠生死別經年，魂魄不曾來入夢。\n",
    "\n",
    "臨邛道士鴻都客，能以精誠致魂魄；\n",
    "\n",
    "為感君王輾轉思，遂教方士殷勤覓。\n",
    "\n",
    "排空馭氣奔如電，升天入地求之遍；\n",
    "\n",
    "上窮碧落下黃泉，兩處茫茫皆不見。\n",
    "\n",
    "忽聞海上有仙山，山在虛無縹緲間。\n",
    "\n",
    "樓閣玲瓏五雲起，其中綽約多仙子。\n",
    "\n",
    "中有一人字太真，雪膚花貌參差是。\n",
    "\n",
    "金闕西廂叩玉扃，轉教小玉報雙成。\n",
    "\n",
    "聞道漢家天子使，九華帳裡夢魂驚；\n",
    "\n",
    "攬衣推枕起徘徊，珠箔銀屏迤邐開。\n",
    "\n",
    "雲鬢半偏新睡覺，花冠不整下堂來。\n",
    "\n",
    "風吹仙袂飄飄舉，猶似霓裳羽衣舞。\n",
    "\n",
    "玉容寂寞淚闌干，梨花一枝春帶雨。\n",
    "\n",
    "含情凝睇謝君王，一別音容兩渺茫。\n",
    "\n",
    "昭陽殿裡恩愛絕，蓬萊宮中日月長。\n",
    "\n",
    "回頭下望人寰處，不見長安見塵霧。\n",
    "\n",
    "唯將舊物表深情，鈿合金釵寄將去。\n",
    "\n",
    "釵留一股合一扇，釵擘黃金合分鈿。\n",
    "\n",
    "但教心似金鈿堅，天上人間會相見。\n",
    "\n",
    "臨別殷勤重寄詞，詞中有誓兩心知，\n",
    "\n",
    "七月七日長生殿，夜半無人私語時：「\n",
    "\n",
    "在天願作比翼鳥，在地願為連理枝。」\n",
    "\n",
    "天長地久有時盡，此恨綿綿無絕期。\n",
    "'''\n",
    "\n",
    "print (\"------------------------------------------\")\n",
    "#請使用者輸入一文字\n",
    "#計算該文字在文章出現次數\n",
    "#列印出現次數\n",
    "string = input()\n",
    "s_num = s.count(string)\n",
    "print (s_num)\n",
    "\n",
    "print (\"------------------------------------------\")\n",
    "#把文字中 '。，\\n；：？「」'的標點符號去除\n",
    "\n",
    "for i in '。，\\n；：？「」':\n",
    "    s = s.replace(i,'')\n",
    "\n",
    "#目前已知出現最多次的字的次數\n",
    "#目前已知出現最多次的字\n",
    "maxstr = ''\n",
    "maxct = 0\n",
    "\n",
    "\n",
    " \n",
    "print('文章總字數:',len(s))\n",
    "\n",
    "for astr in s:\n",
    "    #print(astr)\n",
    "    act=s.count(astr)\n",
    "    # 如果 現在這個字出現的次數(act) 大於 目前已知出現最多次字的次數\n",
    "        #就讓 現在這個字出現的次數 成為 目前已知出現最多次的字的次數\n",
    "        #還要記錄 現在這個字(astr) 到 目前已知出現最多次的字\n",
    "    if act > maxct:\n",
    "        maxct = act\n",
    "        maxchar = astr\n",
    "else:\n",
    "    print(maxchar, maxct)"
   ]
  },
  {
   "cell_type": "code",
   "execution_count": null,
   "metadata": {},
   "outputs": [],
   "source": [
    "#in class 測試\n",
    "#每個標點符號都走過一遍\n",
    "for i in '。，\\n；：？「」':\n",
    "    print(i)"
   ]
  },
  {
   "cell_type": "markdown",
   "metadata": {},
   "source": [
    "### 05 - Email 域名判斷器（Email slicer）\n",
    "#### 請用戶輸入 Email 地址，然後判斷它是自定義域名還是熱門域名。\n",
    "\n",
    "> 題目：<br>\n",
    "輸入(Input):shelly200318@hotmail.com.tw  <br>\n",
    "輸出(Output):Your username is 'shelly200318' and your domain name is 'hotmail.com.tw' <br>\n",
    "\n",
    "\n",
    "* 進階：把常用的信箱存成字典，加入判斷是否為\n",
    ">輸入(Input):mary.jane@gmail.com  <br>\n",
    "輸出(Output):這是註冊在 Google 之下的 Email 地址 <br>\n",
    "輸入(Input):matt.pan@myfantasy.com  <br>\n",
    "輸出(Output):這是在 myfantasy 之下自定義域\n",
    "\n"
   ]
  },
  {
   "cell_type": "code",
   "execution_count": null,
   "metadata": {},
   "outputs": [
    {
     "name": "stdout",
     "output_type": "stream",
     "text": [
      " Your user name is 'v41827' and your domain name is 'gmail.com' \n",
      "這是註冊在Google之下的email地址\n"
     ]
    }
   ],
   "source": [
    "# Get user email address\n",
    "email = input(\"What is your email address?: \").strip() #.strip()移除字左右兩邊的空格\n",
    "\n",
    "# Slice out the user name\n",
    "user_name = email[0:email.index('@')]\n",
    "\n",
    "# Slice the domain name\n",
    "domain_name = email[email.index('@') + 1:len(email)]\n",
    "\n",
    "# Format message\n",
    "output = \" Your user name is '{}' and your domain name is '{}' \".format(user_name, domain_name)\n",
    "\n",
    "#Dusplay output message\n",
    "print (output)\n",
    "\n",
    "domain = {'gmail.com':'Google', 'yahoo.com.tw':'Yahoo','ntu.edu.tw':'ntu','hotmail.com.tw':'hotmail'}\n",
    "\n",
    "##look up dict concept review\n",
    "if domain_name in domain :\n",
    "    output = \"這是註冊在{}之下的email地址\".format(domain[domain_name])\n",
    "\n",
    "else:\n",
    "    output = '這是在{}之下的自定義域'.format(domain[domain_name])\n",
    "\n",
    "print (output)"
   ]
  },
  {
   "cell_type": "markdown",
   "metadata": {},
   "source": [
    "### 06 - 及格名單（Pass list）\n",
    "#### 請使用集合功能來完成各科級名單的判斷\n",
    "```\n",
    "米花市帝丹小學一年级B班正舉辦期中考試\n",
    "數學及格的有：柯南、灰原、步美、美環、光彦\n",
    "英文及格的有：柯南、灰原、丸尾、野口、步美\n",
    "以上已列出全班所有人\n",
    "```\n",
    "\n",
    ">請分別列出<br>\n",
    "數學及格但英文不及格的同學名單<br>\n",
    "數學不及格但英文及格的同學名單<br>\n",
    "兩者皆及格名單<br>\n",
    "* Hint:差集(減法)、交集\n"
   ]
  },
  {
   "cell_type": "code",
   "execution_count": null,
   "metadata": {},
   "outputs": [
    {
     "name": "stdout",
     "output_type": "stream",
     "text": [
      "{'美環', '光彦', '步美', '柯南', '灰原'}\n",
      "{'步美', '柯南', '灰原'}\n",
      "<class 'set'>\n",
      "['柯南', '步美', '灰原']\n",
      "['光彦', '美環']\n",
      "['丸尾', '野口']\n",
      "['丸尾', '美環', '光彦', '步美', '柯南', '野口', '灰原']\n"
     ]
    }
   ],
   "source": [
    "##先把手上有的名單用集合(set) 的方式存成變數m, e\n",
    "m={'柯南','灰原','步美','美環','光彦','灰原'}\n",
    "print(m)\n",
    "e={'柯南','灰原','丸尾','野口','步美'}\n",
    "a=m.intersection(e)\n",
    "\n",
    "print(a)\n",
    "print(type(a))\n",
    "a1 = list(a)\n",
    "a1.sort()\n",
    "print(a1)\n",
    "##a is a set (set無順序)\n",
    "b=m.difference(a)\n",
    "c=e.difference(a)\n",
    "\n",
    "b1=list(b)\n",
    "c1=list(c)\n",
    "\n",
    "b1.sort()\n",
    "print(b1)\n",
    "c1.sort()\n",
    "print(c1)\n",
    "\n",
    "full = m.union(e)\n",
    "d = list(full)\n",
    "print(d)"
   ]
  },
  {
   "cell_type": "markdown",
   "metadata": {},
   "source": [
    "### 07 - 查詢路徑下所有檔案\n",
    "#### 請使用者輸入路徑，自動抓取路徑下所有檔案名稱\n",
    "\n",
    ">輸入(Input):data\\testfile 或 D:\\code\\ML_202105\\data\\testfile  <br>\n",
    "輸出(Output):\n",
    "```\n",
    "I'm a directory: file1\n",
    "I'm a directory: file2\n",
    "I'm a File: hw_07945001.txt\n",
    "I'm a File: hw_079450010.doc\n",
    "I'm a File: hw_07945002.txt\n",
    "I'm a File: hw_07945003.txt\n",
    "I'm a File: hw_07945004.txt\n",
    "I'm a File: hw_07945005.txt\n",
    "I'm a File: hw_07945007.txt\n",
    "I'm a File: hw_07945008.txt\n",
    "I'm a File: hw_07945009.txt\n",
    "```\n",
    "\n",
    "* 進階: 把file的學號抓出來，另存成一個新的csv檔"
   ]
  },
  {
   "cell_type": "code",
   "execution_count": null,
   "metadata": {},
   "outputs": [
    {
     "name": "stdout",
     "output_type": "stream",
     "text": [
      "I'm a directory: file1\n",
      "I'm a directory: file2\n",
      "I'm a File: hw_07945001.txt\n",
      "I'm a File: hw_079450010.doc\n",
      "I'm a File: hw_07945002.txt\n",
      "I'm a File: hw_07945003.txt\n",
      "I'm a File: hw_07945004.txt\n",
      "I'm a File: hw_07945005.txt\n",
      "I'm a File: hw_07945007.txt\n",
      "I'm a File: hw_07945008.txt\n",
      "I'm a File: hw_07945009.txt\n",
      "['07945001', '079450010', '07945002', '07945003', '07945004', '07945005', '07945007', '07945008', '07945009']\n"
     ]
    }
   ],
   "source": [
    "import os\n",
    "##包含上課講的進階題(extract student ID number)\n",
    "\n",
    "# 請使用者輸入或指定要查詢的路徑\n",
    "yourPath = input()\n",
    "# 列出指定路徑底下所有檔案(包含資料夾)\n",
    "allFileList = os.listdir(yourPath)\n",
    "\n",
    "#print (allFileList)\n",
    "ID = []\n",
    "\n",
    "\n",
    "# 逐一查詢檔案清單\n",
    "for file in allFileList:\n",
    "#   這邊也可以視情況，做檔案的操作(複製、讀取...等)\n",
    "#   使用isdir檢查是否為目錄\n",
    "#   使用join的方式把路徑與檔案名稱串起來(等同filePath+fileName)\n",
    "    if os.path.isdir(os.path.join(yourPath,file)):\n",
    "        print(\"I'm a directory: \" + file)\n",
    "    #   使用isfile判斷是否為檔案\n",
    "    elif os.path.isfile(os.path.join(yourPath,file)):\n",
    "        print(\"I'm a File: \" + file)\n",
    "        ID.append(file[file.index('_')+1:file.index('.')])\n",
    "\n",
    "print(ID)\n",
    "\n",
    "#進階2: 去除doc檔的同學學號\n",
    "\n"
   ]
  },
  {
   "cell_type": "code",
   "execution_count": 1,
   "metadata": {},
   "outputs": [
    {
     "name": "stdout",
     "output_type": "stream",
     "text": [
      "The ID list has been stored in the file 'id_list.csv' successfully.\n"
     ]
    }
   ],
   "source": [
    "id_list = ['07945001', '079450010', '07945002', '07945003', '07945004', '07945005', '07945007', '07945008', '07945009']\n",
    "\n",
    "file_name = 'id_list.csv'\n",
    "\n",
    "with open(file_name, mode='w') as file:\n",
    "    file.write(\"ID\\n\")\n",
    "    for id in id_list:\n",
    "        file.write(id + \"\\n\")\n",
    "\n",
    "print(f\"The ID list has been stored in the file '{file_name}' successfully.\")\n"
   ]
  },
  {
   "cell_type": "markdown",
   "metadata": {},
   "source": [
    "### 08 - 資料夾管理(shutil)\n",
    "#### 說明 ####\n",
    "\n",
    "```\n",
    "在目前所在的目錄下建立一files資料夾\n",
    "\n",
    "令使用者輸入一數字N，並在files資料夾中建立f1, f2… fN等N個資料夾後列出files的資料夾內容\n",
    "\n",
    "將files資料夾裡的f1資料夾重新命名成folder1後再列出files的資料夾內容\n",
    "\n",
    "移除files資料夾中的folder1後再列出files的資料夾內容\n",
    "\n",
    "最後移除files資料夾\n",
    "※須先退出files資料夾(os.chdir(../)) ![image.png](attachment:image.png)\n",
    "```\n"
   ]
  },
  {
   "cell_type": "code",
   "execution_count": null,
   "metadata": {},
   "outputs": [
    {
     "name": "stdout",
     "output_type": "stream",
     "text": [
      "['f1', 'f2']\n",
      "['f2', 'folder1']\n",
      "['f2']\n"
     ]
    }
   ],
   "source": [
    "import os\n",
    "import shutil\n",
    "\n",
    "if os.path.exists('files'):\n",
    "    shutil.rmtree('files')\n",
    "os.mkdir('files')\n",
    "\n",
    "n = int(input())\n",
    "\n",
    "os.chdir('files')\n",
    "for i in range(1, n+1):  #n+1, since the final value not included\n",
    "    os.mkdir('f'+str(i))\n",
    "print(sorted(os.listdir()))\n",
    "a = input('Enter') #停損點, 程式要debug時也可以這樣做\n",
    "\n",
    "os.rename('f1', 'folder1')\n",
    "print(sorted(os.listdir()))\n",
    "a = input('Enter') \n",
    "\n",
    "os.rmdir('folder1')\n",
    "print(sorted(os.listdir()))\n",
    "a = input('Enter') \n",
    "\n",
    "os.chdir('../')  #../ 上一層資料夾的意思 #同一層的路徑./ or 不寫\n",
    "shutil.rmtree('files')"
   ]
  },
  {
   "cell_type": "markdown",
   "metadata": {},
   "source": [
    "### 09 - 回文判斷（Is a palindrome）\n",
    "#### 請使用者輸入單字，判斷它是否為回文，也就是該單字前後對稱，例如 madam，從前讀到後或是從後讀到前的順序都是 madam。\n",
    "\n",
    "> 題目：<br>\n",
    "輸入(Input): 雨 滋 春 樹 碧 連 天  天 連 碧 樹 春 滋 雨 <br>\n",
    "輸出(Output):The text you have entered is a palindrome!<br>\n",
    "輸入(Input): 資工訓練班 <br>\n",
    "輸出(Output):The text you have entered is not a palindrome.\n"
   ]
  },
  {
   "cell_type": "code",
   "execution_count": null,
   "metadata": {},
   "outputs": [
    {
     "name": "stdout",
     "output_type": "stream",
     "text": [
      "\n",
      "Palindrome checker\n",
      "The text you have entered is a palindrome!\n",
      "\n",
      "Palindrome checker\n"
     ]
    },
    {
     "ename": "KeyboardInterrupt",
     "evalue": "Interrupted by user",
     "output_type": "error",
     "traceback": [
      "\u001b[1;31m---------------------------------------------------------------------------\u001b[0m",
      "\u001b[1;31mKeyboardInterrupt\u001b[0m                         Traceback (most recent call last)",
      "\u001b[1;32mc:\\Users\\CHAN YI WEN\\OneDrive - University of Southampton\\8202 Yi Wen Chan\\Python 2023\\ML\\Unit01\\Unit01\\Unit01_Crash Course on Python.ipynb Cell 20\u001b[0m in \u001b[0;36m<cell line: 37>\u001b[1;34m()\u001b[0m\n\u001b[0;32m     <a href='vscode-notebook-cell:/c%3A/Users/CHAN%20YI%20WEN/OneDrive%20-%20University%20of%20Southampton/8202%20Yi%20Wen%20Chan/Python%202023/ML/Unit01/Unit01/Unit01_Crash%20Course%20on%20Python.ipynb#X25sZmlsZQ%3D%3D?line=30'>31</a>\u001b[0m main()                                        \n\u001b[0;32m     <a href='vscode-notebook-cell:/c%3A/Users/CHAN%20YI%20WEN/OneDrive%20-%20University%20of%20Southampton/8202%20Yi%20Wen%20Chan/Python%202023/ML/Unit01/Unit01/Unit01_Crash%20Course%20on%20Python.ipynb#X25sZmlsZQ%3D%3D?line=35'>36</a>\u001b[0m \u001b[39m##when we difine a function and it returns sth, when we call them, we need to assign a variable to catch the return value otherwise an error will occur\u001b[39;00m\n\u001b[1;32m---> <a href='vscode-notebook-cell:/c%3A/Users/CHAN%20YI%20WEN/OneDrive%20-%20University%20of%20Southampton/8202%20Yi%20Wen%20Chan/Python%202023/ML/Unit01/Unit01/Unit01_Crash%20Course%20on%20Python.ipynb#X25sZmlsZQ%3D%3D?line=36'>37</a>\u001b[0m main()\n",
      "\u001b[1;32mc:\\Users\\CHAN YI WEN\\OneDrive - University of Southampton\\8202 Yi Wen Chan\\Python 2023\\ML\\Unit01\\Unit01\\Unit01_Crash Course on Python.ipynb Cell 20\u001b[0m in \u001b[0;36mmain\u001b[1;34m()\u001b[0m\n\u001b[0;32m     <a href='vscode-notebook-cell:/c%3A/Users/CHAN%20YI%20WEN/OneDrive%20-%20University%20of%20Southampton/8202%20Yi%20Wen%20Chan/Python%202023/ML/Unit01/Unit01/Unit01_Crash%20Course%20on%20Python.ipynb#X25sZmlsZQ%3D%3D?line=24'>25</a>\u001b[0m \u001b[39mdef\u001b[39;00m \u001b[39mmain\u001b[39m(): \n\u001b[0;32m     <a href='vscode-notebook-cell:/c%3A/Users/CHAN%20YI%20WEN/OneDrive%20-%20University%20of%20Southampton/8202%20Yi%20Wen%20Chan/Python%202023/ML/Unit01/Unit01/Unit01_Crash%20Course%20on%20Python.ipynb#X25sZmlsZQ%3D%3D?line=25'>26</a>\u001b[0m     \u001b[39mprint\u001b[39m(\u001b[39m\"\u001b[39m\u001b[39m\\n\u001b[39;00m\u001b[39mPalindrome checker\u001b[39m\u001b[39m\"\u001b[39m) \n\u001b[1;32m---> <a href='vscode-notebook-cell:/c%3A/Users/CHAN%20YI%20WEN/OneDrive%20-%20University%20of%20Southampton/8202%20Yi%20Wen%20Chan/Python%202023/ML/Unit01/Unit01/Unit01_Crash%20Course%20on%20Python.ipynb#X25sZmlsZQ%3D%3D?line=26'>27</a>\u001b[0m     originalList \u001b[39m=\u001b[39m convertInputString()\n\u001b[0;32m     <a href='vscode-notebook-cell:/c%3A/Users/CHAN%20YI%20WEN/OneDrive%20-%20University%20of%20Southampton/8202%20Yi%20Wen%20Chan/Python%202023/ML/Unit01/Unit01/Unit01_Crash%20Course%20on%20Python.ipynb#X25sZmlsZQ%3D%3D?line=27'>28</a>\u001b[0m     originalList \u001b[39m=\u001b[39m stripAnalphabetics(originalList)\n\u001b[0;32m     <a href='vscode-notebook-cell:/c%3A/Users/CHAN%20YI%20WEN/OneDrive%20-%20University%20of%20Southampton/8202%20Yi%20Wen%20Chan/Python%202023/ML/Unit01/Unit01/Unit01_Crash%20Course%20on%20Python.ipynb#X25sZmlsZQ%3D%3D?line=28'>29</a>\u001b[0m     palinedromeCheck \u001b[39m=\u001b[39m runPalindromeCheck(originalList)\n",
      "\u001b[1;32mc:\\Users\\CHAN YI WEN\\OneDrive - University of Southampton\\8202 Yi Wen Chan\\Python 2023\\ML\\Unit01\\Unit01\\Unit01_Crash Course on Python.ipynb Cell 20\u001b[0m in \u001b[0;36mconvertInputString\u001b[1;34m()\u001b[0m\n\u001b[0;32m      <a href='vscode-notebook-cell:/c%3A/Users/CHAN%20YI%20WEN/OneDrive%20-%20University%20of%20Southampton/8202%20Yi%20Wen%20Chan/Python%202023/ML/Unit01/Unit01/Unit01_Crash%20Course%20on%20Python.ipynb#X25sZmlsZQ%3D%3D?line=0'>1</a>\u001b[0m \u001b[39mdef\u001b[39;00m \u001b[39mconvertInputString\u001b[39m():\n\u001b[0;32m      <a href='vscode-notebook-cell:/c%3A/Users/CHAN%20YI%20WEN/OneDrive%20-%20University%20of%20Southampton/8202%20Yi%20Wen%20Chan/Python%202023/ML/Unit01/Unit01/Unit01_Crash%20Course%20on%20Python.ipynb#X25sZmlsZQ%3D%3D?line=1'>2</a>\u001b[0m     \u001b[39m#請使用者輸入一串字串，先轉換字串為統一小寫\u001b[39;00m\n\u001b[1;32m----> <a href='vscode-notebook-cell:/c%3A/Users/CHAN%20YI%20WEN/OneDrive%20-%20University%20of%20Southampton/8202%20Yi%20Wen%20Chan/Python%202023/ML/Unit01/Unit01/Unit01_Crash%20Course%20on%20Python.ipynb#X25sZmlsZQ%3D%3D?line=2'>3</a>\u001b[0m     rawInput \u001b[39m=\u001b[39m \u001b[39minput\u001b[39;49m(\u001b[39m\"\u001b[39;49m\u001b[39m\\n\u001b[39;49;00m\u001b[39mPlease enter a word, phrase, or a sentence \u001b[39;49m\u001b[39m\\n\u001b[39;49;00m\u001b[39mto check if it is a palindrome: \u001b[39;49m\u001b[39m\"\u001b[39;49m) \n\u001b[0;32m      <a href='vscode-notebook-cell:/c%3A/Users/CHAN%20YI%20WEN/OneDrive%20-%20University%20of%20Southampton/8202%20Yi%20Wen%20Chan/Python%202023/ML/Unit01/Unit01/Unit01_Crash%20Course%20on%20Python.ipynb#X25sZmlsZQ%3D%3D?line=3'>4</a>\u001b[0m     rawString \u001b[39m=\u001b[39m rawInput\u001b[39m.\u001b[39mlower()\n\u001b[0;32m      <a href='vscode-notebook-cell:/c%3A/Users/CHAN%20YI%20WEN/OneDrive%20-%20University%20of%20Southampton/8202%20Yi%20Wen%20Chan/Python%202023/ML/Unit01/Unit01/Unit01_Crash%20Course%20on%20Python.ipynb#X25sZmlsZQ%3D%3D?line=4'>5</a>\u001b[0m     rawList \u001b[39m=\u001b[39m \u001b[39mlist\u001b[39m(rawString)\n",
      "File \u001b[1;32mc:\\Users\\CHAN YI WEN\\lib\\site-packages\\ipykernel\\kernelbase.py:1177\u001b[0m, in \u001b[0;36mKernel.raw_input\u001b[1;34m(self, prompt)\u001b[0m\n\u001b[0;32m   1173\u001b[0m \u001b[39mif\u001b[39;00m \u001b[39mnot\u001b[39;00m \u001b[39mself\u001b[39m\u001b[39m.\u001b[39m_allow_stdin:\n\u001b[0;32m   1174\u001b[0m     \u001b[39mraise\u001b[39;00m StdinNotImplementedError(\n\u001b[0;32m   1175\u001b[0m         \u001b[39m\"\u001b[39m\u001b[39mraw_input was called, but this frontend does not support input requests.\u001b[39m\u001b[39m\"\u001b[39m\n\u001b[0;32m   1176\u001b[0m     )\n\u001b[1;32m-> 1177\u001b[0m \u001b[39mreturn\u001b[39;00m \u001b[39mself\u001b[39;49m\u001b[39m.\u001b[39;49m_input_request(\n\u001b[0;32m   1178\u001b[0m     \u001b[39mstr\u001b[39;49m(prompt),\n\u001b[0;32m   1179\u001b[0m     \u001b[39mself\u001b[39;49m\u001b[39m.\u001b[39;49m_parent_ident[\u001b[39m\"\u001b[39;49m\u001b[39mshell\u001b[39;49m\u001b[39m\"\u001b[39;49m],\n\u001b[0;32m   1180\u001b[0m     \u001b[39mself\u001b[39;49m\u001b[39m.\u001b[39;49mget_parent(\u001b[39m\"\u001b[39;49m\u001b[39mshell\u001b[39;49m\u001b[39m\"\u001b[39;49m),\n\u001b[0;32m   1181\u001b[0m     password\u001b[39m=\u001b[39;49m\u001b[39mFalse\u001b[39;49;00m,\n\u001b[0;32m   1182\u001b[0m )\n",
      "File \u001b[1;32mc:\\Users\\CHAN YI WEN\\lib\\site-packages\\ipykernel\\kernelbase.py:1219\u001b[0m, in \u001b[0;36mKernel._input_request\u001b[1;34m(self, prompt, ident, parent, password)\u001b[0m\n\u001b[0;32m   1216\u001b[0m             \u001b[39mbreak\u001b[39;00m\n\u001b[0;32m   1217\u001b[0m \u001b[39mexcept\u001b[39;00m \u001b[39mKeyboardInterrupt\u001b[39;00m:\n\u001b[0;32m   1218\u001b[0m     \u001b[39m# re-raise KeyboardInterrupt, to truncate traceback\u001b[39;00m\n\u001b[1;32m-> 1219\u001b[0m     \u001b[39mraise\u001b[39;00m \u001b[39mKeyboardInterrupt\u001b[39;00m(\u001b[39m\"\u001b[39m\u001b[39mInterrupted by user\u001b[39m\u001b[39m\"\u001b[39m) \u001b[39mfrom\u001b[39;00m \u001b[39mNone\u001b[39m\n\u001b[0;32m   1220\u001b[0m \u001b[39mexcept\u001b[39;00m \u001b[39mException\u001b[39;00m:\n\u001b[0;32m   1221\u001b[0m     \u001b[39mself\u001b[39m\u001b[39m.\u001b[39mlog\u001b[39m.\u001b[39mwarning(\u001b[39m\"\u001b[39m\u001b[39mInvalid Message:\u001b[39m\u001b[39m\"\u001b[39m, exc_info\u001b[39m=\u001b[39m\u001b[39mTrue\u001b[39;00m)\n",
      "\u001b[1;31mKeyboardInterrupt\u001b[0m: Interrupted by user"
     ]
    }
   ],
   "source": [
    "def convertInputString():\n",
    "    #請使用者輸入一串字串，先轉換字串為統一小寫\n",
    "    rawInput = input(\"\\nPlease enter a word, phrase, or a sentence \\nto check if it is a palindrome: \") \n",
    "    rawString = rawInput.lower()\n",
    "    rawList = list(rawString)\n",
    "    return rawList\n",
    "\n",
    "def stripAnalphabetics(dirtyList): \n",
    "    analphabeticList = [\" \", \"-\", \".\", \",\", \":\", \";\", \"!\", \"?\", \"'\", \"\\\"\"] \n",
    "    #去除相關標點符號\n",
    "    for character in analphabeticList:\n",
    "        if character in dirtyList:\n",
    "            dirtyList.remove(character)\n",
    "            return stripAnalphabetics(dirtyList)\n",
    "        #hw recording 34min explanation\n",
    "    return dirtyList\n",
    "\n",
    "def runPalindromeCheck(straightList):\n",
    "    reversedList = straightList[::-1] \n",
    "    if reversedList == straightList[::-1] : \n",
    "        return \"The text you have entered is a palindrome!\" \n",
    "    else: \n",
    "        return \"The text you have entered is not a palindrome.\" \n",
    "\n",
    "def main(): \n",
    "    print(\"\\nPalindrome checker\") \n",
    "    originalList = convertInputString()\n",
    "    originalList = stripAnalphabetics(originalList)\n",
    "    palinedromeCheck = runPalindromeCheck(originalList)\n",
    "    print (palinedromeCheck)\n",
    "main()                                        \n",
    "\n",
    "\n",
    "\n",
    "\n",
    "##when we difine a function and it returns sth, when we call them, we need to assign a variable to catch the return value otherwise an error will occur\n",
    "main() "
   ]
  },
  {
   "cell_type": "code",
   "execution_count": null,
   "metadata": {},
   "outputs": [
    {
     "name": "stdout",
     "output_type": "stream",
     "text": [
      "[6, 5, 4, 3, 2, 1]\n",
      "[4, 3, 2, 1]\n"
     ]
    }
   ],
   "source": [
    "l = [1,2,3,4,5,6]\n",
    "print (l[::-1])\n",
    "print(l[3::-1])"
   ]
  },
  {
   "cell_type": "markdown",
   "metadata": {},
   "source": [
    "### 10 - 總成績計算\n",
    "#### 說明 ####\n",
    "\n",
    "請讀取 `data/english_list.csv`與`data/math_list.csv`檔案(`utf-8`)後，將每位同學的英文與數學成績加總起來，並將檔案寫入至 `./Score.csv`中，編碼成`utf-8`<br>\n",
    "最後列印出每位學生姓名與加總後的分數<br>\n",
    "<a href=\"data\\english_list.csv\">英文成績下載</a><br>\n",
    "<a href=\"data\\math_list.csv\">數學成績下載</a><br>\n",
    "\n",
    "#### Input Format ####\n",
    "\n",
    "<br>\n",
    "csv資料(英文成績)<br>\n",
    "csv資料(數學成績)<br>\n",
    "<br>\n",
    "\n",
    "#### Output Format ####\n",
    "\n",
    "<br>\n",
    "\n",
    "![](data\\05.JPG)<br>\n",
    "<br>\n",
    "<br>\n",
    "(圖片參考用 以文字敘述為準)<br>\n",
    "\n",
    "\n",
    "\n",
    "\n",
    "#### Sample Input 1####\n",
    "\n",
    "\n",
    "\n",
    "```\n",
    "無標準輸入，只有檔案輸入\n",
    "```\n",
    "\n",
    "\n",
    "\n",
    "#### Sample Output 1####\n",
    "\n",
    "\n",
    "```\n",
    "廖冠霖 142\n",
    "王力中 124\n",
    "張平舜 108\n",
    ".\n",
    ".\n",
    ".\n",
    ".\n",
    ".\n",
    "陳姿茜 77\n",
    "涂珮瑜 134\n",
    "夏明哲 111\n",
    "\n",
    "```\n",
    "\n",
    "\n",
    "#### Hint ####\n",
    "\n",
    "\n",
    "\n",
    "```\n",
    "None\n",
    "```\n"
   ]
  },
  {
   "cell_type": "code",
   "execution_count": null,
   "metadata": {},
   "outputs": [
    {
     "name": "stdout",
     "output_type": "stream",
     "text": [
      "廖冠霖 142\n",
      "王力中 124\n",
      "張平舜 108\n",
      "洪婷婷 128\n",
      "林士雨 86\n",
      "陳宗翰 28\n",
      "洪偉珊 134\n",
      "顏又芹 32\n",
      "王亦夏 55\n",
      "姚成華 77\n",
      "潘詠月 144\n",
      "倪浩迪 163\n",
      "郭心怡 109\n",
      "黃政聖 99\n",
      "顏曉雲 135\n",
      "彭曉雯 77\n",
      "葉健仁 117\n",
      "賴軒年 167\n",
      "韓致遠 52\n",
      "陳常芝 80\n",
      "黃佩樺 108\n",
      "林詩虹 178\n",
      "黃心卿 96\n",
      "郭奕全 101\n",
      "游子揚 127\n",
      "杜茜行 107\n",
      "李美一 64\n",
      "陳姿茜 77\n",
      "涂珮瑜 134\n",
      "夏明哲 111\n"
     ]
    },
    {
     "data": {
      "text/plain": [
       "'\\nline=\\'\\'\\nfout = open(\"Score.csv\",\"r\")\\nfor i in (len(name)):\\n    print()\\n'"
      ]
     },
     "execution_count": 15,
     "metadata": {},
     "output_type": "execute_result"
    }
   ],
   "source": [
    "fin_E = open('data/english_list.csv',\"r\",encoding='UTF-8')\n",
    "fin_M = open('data/math_list.csv',\"r\",encoding='UTF-8')\n",
    "lisE=[]\n",
    "lisM=[]\n",
    "name=[]\n",
    "for line in fin_E.readlines():\n",
    "    #print (line, end = '')\n",
    "    line = line.strip().split(\",\")\n",
    "    #print (line)\n",
    "    lisE.append(line[1])\n",
    "    name.append(line[0])\n",
    "    \n",
    "    \n",
    "for line in fin_M.readlines():\n",
    "    line = line.strip().split(\",\")\n",
    "    lisM.append(line[1])\n",
    "    \n",
    "score=[]\n",
    "fout = open(\"data/Score.csv\",\"w\")\n",
    "line=''\n",
    "for i in range(1,len(lisE)):\n",
    "    score.append(int(lisE[i])+int(lisM[i]))\n",
    "    list1 = [name[i],str(score[i-1]),\"\\n\"] #記得換行\n",
    "    print(name[i],str(score[i-1]))\n",
    "    \n",
    "    line = \",\".join(list1) ##(mentioned in recorded lec) list1 (list) convert to string, 資料讀進來的時候是字串(string)\n",
    "    fout.write(line)\n",
    "fin_E.close()\n",
    "fin_M.close()\n",
    "fout.close()\n",
    "'''\n",
    "line=''\n",
    "fout = open(\"Score.csv\",\"r\")\n",
    "for i in (len(name)):\n",
    "    print()\n",
    "'''\n"
   ]
  },
  {
   "cell_type": "code",
   "execution_count": null,
   "metadata": {},
   "outputs": [
    {
     "name": "stdout",
     "output_type": "stream",
     "text": [
      "['1', ' 2', ' 3']\n",
      "1- 2- 3\n"
     ]
    }
   ],
   "source": [
    "#上課補充split and join\n",
    "s = \"1, 2, 3\"\n",
    "s = s.split(',')\n",
    "print (s)\n",
    "\n",
    "\n",
    "s = '-'.join(s)\n",
    "print (s)"
   ]
  },
  {
   "cell_type": "code",
   "execution_count": null,
   "metadata": {},
   "outputs": [],
   "source": []
  }
 ],
 "metadata": {
  "kernelspec": {
   "display_name": "Python 3",
   "language": "python",
   "name": "python3"
  },
  "language_info": {
   "codemirror_mode": {
    "name": "ipython",
    "version": 3
   },
   "file_extension": ".py",
   "mimetype": "text/x-python",
   "name": "python",
   "nbconvert_exporter": "python",
   "pygments_lexer": "ipython3",
   "version": "3.8.3"
  }
 },
 "nbformat": 4,
 "nbformat_minor": 2
}
